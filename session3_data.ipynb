{
 "cells": [
  {
   "cell_type": "code",
   "execution_count": 3,
   "metadata": {},
   "outputs": [],
   "source": [
    "import pandas as pd \n",
    "import numpy as np \n",
    "data = pd.read_csv('brazilian_amazon_fires_1999_2019.csv')"
   ]
  },
  {
   "cell_type": "code",
   "execution_count": 15,
   "metadata": {},
   "outputs": [
    {
     "name": "stdout",
     "output_type": "stream",
     "text": [
      "   year  month        state   latitude  longitude  firespots\n",
      "0  1999      1     AMAZONAS  -2.371113 -59.899933          3\n",
      "1  1999      1     MARANHAO  -2.257395 -45.487831         36\n",
      "2  1999      1  MATO GROSSO -12.660633 -55.057989         18\n"
     ]
    }
   ],
   "source": [
    "import pandas as pd \n",
    "import numpy as np\n",
    "data = pd.read_csv('brazilian_amazon_fires_1999_2019.csv')\n",
    "rows  = pd.read_csv(\"brazilian_amazon_fires_1999_2019.csv\", nrows=3, usecols=[\"year\",\"month\",\"state\", \"latitude\", \"longitude\", \"firespots\"])\n",
    "print (rows)"
   ]
  },
  {
   "cell_type": "code",
   "execution_count": null,
   "metadata": {},
   "outputs": [],
   "source": []
  }
 ],
 "metadata": {
  "kernelspec": {
   "display_name": "daz-venv",
   "language": "python",
   "name": "python3"
  },
  "language_info": {
   "codemirror_mode": {
    "name": "ipython",
    "version": 3
   },
   "file_extension": ".py",
   "mimetype": "text/x-python",
   "name": "python",
   "nbconvert_exporter": "python",
   "pygments_lexer": "ipython3",
   "version": "3.11.9"
  }
 },
 "nbformat": 4,
 "nbformat_minor": 2
}
